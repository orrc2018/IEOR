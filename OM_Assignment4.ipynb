{
  "nbformat": 4,
  "nbformat_minor": 0,
  "metadata": {
    "colab": {
      "provenance": []
    },
    "kernelspec": {
      "name": "python3",
      "display_name": "Python 3"
    },
    "language_info": {
      "name": "python"
    }
  },
  "cells": [
    {
      "cell_type": "code",
      "execution_count": 9,
      "metadata": {
        "colab": {
          "base_uri": "https://localhost:8080/"
        },
        "id": "xKADdoVwhD52",
        "outputId": "b0597a73-c6b0-436c-d8b3-322b9438e08e"
      },
      "outputs": [
        {
          "output_type": "stream",
          "name": "stdout",
          "text": [
            "Requirement already satisfied: gurobipy in /usr/local/lib/python3.10/dist-packages (11.0.3)\n"
          ]
        }
      ],
      "source": [
        "!pip install gurobipy\n",
        "import numpy as np\n",
        "import gurobipy as gp\n",
        "from gurobipy import GRB\n",
        "import pandas as pd"
      ]
    },
    {
      "cell_type": "markdown",
      "source": [
        "Problem 1"
      ],
      "metadata": {
        "id": "uVQ4zCdZhV7h"
      }
    },
    {
      "cell_type": "code",
      "source": [
        "m1 = gp.Model()\n",
        "\n",
        "# Flow variables\n",
        "x1 = m1.addVar(lb = 0, ub = 1, vtype=gp.GRB.INTEGER)\n",
        "x2 = m1.addVar(lb = 0, ub = 1, vtype=gp.GRB.INTEGER)\n",
        "x3 = m1.addVar(lb = 0, ub = 1, vtype=gp.GRB.INTEGER)\n",
        "x4 = m1.addVar(lb = 0, ub = 1, vtype=gp.GRB.INTEGER)\n",
        "x5 = m1.addVar(lb = 0, ub = 1, vtype=gp.GRB.INTEGER)\n",
        "x6 = m1.addVar(lb = 0, ub = 1, vtype=gp.GRB.INTEGER)\n",
        "x7 = m1.addVar(lb = 0, ub = 1, vtype=gp.GRB.INTEGER)\n",
        "x8 = m1.addVar(lb = 0, ub = 1, vtype=gp.GRB.INTEGER)\n",
        "\n",
        "# Source and sink\n",
        "m1.addConstr(x1 + x2 == 1)\n",
        "m1.addConstr(x7 + x8 == 1)\n",
        "\n",
        "# Flow conservation\n",
        "m1.addConstr(x1 == x3 + x5)\n",
        "m1.addConstr(x2 == x4)\n",
        "m1.addConstr(x3 + x4 == x6 + x7)\n",
        "m1.addConstr(x5 + x6  == x8)\n",
        "\n",
        "# Objective function\n",
        "m1.setObjective(5*x1 + 3*x2 + 3*x3 + 8*x4 + 6*x5 + 4*x6 + 6*x7 + x8, gp.GRB.MINIMIZE)\n",
        "\n",
        "# Optimize\n",
        "m1.optimize()"
      ],
      "metadata": {
        "colab": {
          "base_uri": "https://localhost:8080/"
        },
        "id": "wAUS6wuejEzs",
        "outputId": "e78906a1-0a7e-4a3d-99d8-409e2b204f66"
      },
      "execution_count": 15,
      "outputs": [
        {
          "output_type": "stream",
          "name": "stdout",
          "text": [
            "Gurobi Optimizer version 11.0.3 build v11.0.3rc0 (linux64 - \"Ubuntu 22.04.3 LTS\")\n",
            "\n",
            "CPU model: Intel(R) Xeon(R) CPU @ 2.20GHz, instruction set [SSE2|AVX|AVX2]\n",
            "Thread count: 1 physical cores, 2 logical processors, using up to 2 threads\n",
            "\n",
            "Optimize a model with 6 rows, 8 columns and 16 nonzeros\n",
            "Model fingerprint: 0xb37aa3a7\n",
            "Variable types: 0 continuous, 8 integer (0 binary)\n",
            "Coefficient statistics:\n",
            "  Matrix range     [1e+00, 1e+00]\n",
            "  Objective range  [1e+00, 8e+00]\n",
            "  Bounds range     [1e+00, 1e+00]\n",
            "  RHS range        [1e+00, 1e+00]\n",
            "Presolve removed 6 rows and 8 columns\n",
            "Presolve time: 0.00s\n",
            "Presolve: All rows and columns removed\n",
            "\n",
            "Explored 0 nodes (0 simplex iterations) in 0.01 seconds (0.00 work units)\n",
            "Thread count was 1 (of 2 available processors)\n",
            "\n",
            "Solution count 1: 12 \n",
            "\n",
            "Optimal solution found (tolerance 1.00e-04)\n",
            "Best objective 1.200000000000e+01, best bound 1.200000000000e+01, gap 0.0000%\n"
          ]
        }
      ]
    },
    {
      "cell_type": "code",
      "source": [],
      "metadata": {
        "id": "WJGLfbwfh5-0"
      },
      "execution_count": 2,
      "outputs": []
    }
  ]
}