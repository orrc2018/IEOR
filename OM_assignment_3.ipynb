{
  "nbformat": 4,
  "nbformat_minor": 0,
  "metadata": {
    "colab": {
      "provenance": []
    },
    "kernelspec": {
      "name": "python3",
      "display_name": "Python 3"
    },
    "language_info": {
      "name": "python"
    }
  },
  "cells": [
    {
      "cell_type": "code",
      "execution_count": 2,
      "metadata": {
        "colab": {
          "base_uri": "https://localhost:8080/"
        },
        "id": "Ggl7MRVyYg0d",
        "outputId": "55860a26-0e49-4e06-84cf-ad97cea1cfc0"
      },
      "outputs": [
        {
          "output_type": "stream",
          "name": "stdout",
          "text": [
            "Collecting gurobipy\n",
            "  Downloading gurobipy-11.0.3-cp310-cp310-manylinux2014_x86_64.manylinux_2_17_x86_64.whl.metadata (15 kB)\n",
            "Downloading gurobipy-11.0.3-cp310-cp310-manylinux2014_x86_64.manylinux_2_17_x86_64.whl (13.4 MB)\n",
            "\u001b[2K   \u001b[90m━━━━━━━━━━━━━━━━━━━━━━━━━━━━━━━━━━━━━━━━\u001b[0m \u001b[32m13.4/13.4 MB\u001b[0m \u001b[31m44.2 MB/s\u001b[0m eta \u001b[36m0:00:00\u001b[0m\n",
            "\u001b[?25hInstalling collected packages: gurobipy\n",
            "Successfully installed gurobipy-11.0.3\n"
          ]
        }
      ],
      "source": [
        "!pip install gurobipy\n",
        "import numpy as np\n",
        "import gurobipy as gp\n",
        "from gurobipy import GRB\n",
        "import pandas as pd"
      ]
    },
    {
      "cell_type": "markdown",
      "source": [
        "Problem 4"
      ],
      "metadata": {
        "id": "DwC4lKSFJZH8"
      }
    },
    {
      "cell_type": "code",
      "source": [
        "m = gp.Model(\"Furniture Problem\")\n",
        "\n",
        "x1 = m.addVar(vtype=GRB.INTEGER, name=\"tables\")\n",
        "x2 = m.addVar(vtype=GRB.INTEGER, name=\"chairs\")\n",
        "x3 = m.addVar(vtype=GRB.INTEGER, name=\"bookshelves\")\n",
        "x4 = m.addVar(vtype=GRB.INTEGER, name=\"beds\")\n",
        "z = m.addVar(vtype=GRB.BINARY, name=\"z\")\n",
        "c1 = m.addVar(vtype=GRB.INTEGER, name=\"c1\")\n",
        "c2 = m.addVar(vtype=GRB.INTEGER, name=\"c2\")\n",
        "\n",
        "m.setObjective(5 * x1 + 3 * x2 + 7 * x3 + 12 * x4, GRB.MAXIMIZE)\n",
        "\n",
        "m.addConstr(3 * x1 + 2 * x2 + 5 * x3 + 8 * x4 <= 100, \"Wood\")\n",
        "m.addConstr(7 * x1 + 9 * x2 + 12 * x3 + 19 * x4 <= 250, \"Nails\")\n",
        "m.addConstr(3 * x1 + 5 * x2 + 5 * x3 + 10 * x4 <= 150, \"Glue\")\n",
        "\n",
        "m.addConstr(x1 <= c1 * z, \"Tablec\")\n",
        "m.addConstr(x2 <= c2 * (1 - z), \"Chairc\")\n",
        "\n",
        "m.optimize()\n",
        "\n",
        "if m.status == GRB.OPTIMAL:\n",
        "    print(f\"Optimal value: {m.objVal}\")\n",
        "    print(f\"Tables: {x1.x}\")\n",
        "    print(f\"Chairs: {x2.x}\")\n",
        "    print(f\"Bookshelves: {x3.x}\")\n",
        "    print(f\"Beds: {x4.x}\")\n",
        "else:\n",
        "    print(\"No optimal solution found.\")"
      ],
      "metadata": {
        "colab": {
          "base_uri": "https://localhost:8080/"
        },
        "id": "q8x8ybumYlo-",
        "outputId": "d4d8ef5b-3259-41c6-9ce2-d77cc83af8ea"
      },
      "execution_count": 3,
      "outputs": [
        {
          "output_type": "stream",
          "name": "stdout",
          "text": [
            "Restricted license - for non-production use only - expires 2025-11-24\n",
            "Gurobi Optimizer version 11.0.3 build v11.0.3rc0 (linux64 - \"Ubuntu 22.04.3 LTS\")\n",
            "\n",
            "CPU model: Intel(R) Xeon(R) CPU @ 2.20GHz, instruction set [SSE2|AVX|AVX2]\n",
            "Thread count: 1 physical cores, 2 logical processors, using up to 2 threads\n",
            "\n",
            "Optimize a model with 3 rows, 7 columns and 12 nonzeros\n",
            "Model fingerprint: 0x6a8dfd6a\n",
            "Model has 2 quadratic constraints\n",
            "Variable types: 0 continuous, 7 integer (1 binary)\n",
            "Coefficient statistics:\n",
            "  Matrix range     [2e+00, 2e+01]\n",
            "  QMatrix range    [1e+00, 1e+00]\n",
            "  QLMatrix range   [1e+00, 1e+00]\n",
            "  Objective range  [3e+00, 1e+01]\n",
            "  Bounds range     [1e+00, 1e+00]\n",
            "  RHS range        [1e+02, 2e+02]\n",
            "Found heuristic solution: objective -0.0000000\n",
            "Presolve removed 0 rows and 1 columns\n",
            "Presolve time: 0.00s\n",
            "Presolved: 6 rows, 9 columns, 17 nonzeros\n",
            "Presolved model has 2 SOS constraint(s)\n",
            "Variable types: 0 continuous, 9 integer (2 binary)\n",
            "Found heuristic solution: objective 91.0000000\n",
            "\n",
            "Root relaxation: objective 1.665000e+02, 3 iterations, 0.00 seconds (0.00 work units)\n",
            "\n",
            "    Nodes    |    Current Node    |     Objective Bounds      |     Work\n",
            " Expl Unexpl |  Obj  Depth IntInf | Incumbent    BestBd   Gap | It/Node Time\n",
            "\n",
            "     0     0  166.50000    0    2   91.00000  166.50000  83.0%     -    0s\n",
            "     0     0  166.50000    0    2   91.00000  166.50000  83.0%     -    0s\n",
            "H    0     0                     165.0000000  166.50000  0.91%     -    0s\n",
            "     0     0  166.50000    0    2  165.00000  166.50000  0.91%     -    0s\n",
            "\n",
            "Explored 1 nodes (4 simplex iterations) in 0.04 seconds (0.00 work units)\n",
            "Thread count was 2 (of 2 available processors)\n",
            "\n",
            "Solution count 3: 165 91 -0 \n",
            "\n",
            "Optimal solution found (tolerance 1.00e-04)\n",
            "Best objective 1.650000000000e+02, best bound 1.650000000000e+02, gap 0.0000%\n",
            "Optimal value: 165.0\n",
            "Tables: 33.0\n",
            "Chairs: -0.0\n",
            "Bookshelves: -0.0\n",
            "Beds: -0.0\n"
          ]
        }
      ]
    },
    {
      "cell_type": "markdown",
      "source": [
        "Problem 4, part 2"
      ],
      "metadata": {
        "id": "ewHN1HcBlD9-"
      }
    },
    {
      "cell_type": "code",
      "source": [
        "m = gp.Model(\"Furniture Problem\")\n",
        "\n",
        "x1 = m.addVar(vtype=GRB.INTEGER, name=\"tables\")\n",
        "x2 = m.addVar(vtype=GRB.INTEGER, name=\"chairs\")\n",
        "x3 = m.addVar(vtype=GRB.INTEGER, name=\"bookshelves\")\n",
        "x4 = m.addVar(vtype=GRB.INTEGER, name=\"beds\")\n",
        "z1 = m.addVar(vtype=GRB.BINARY, name=\"z1\")\n",
        "z2 = m.addVar(vtype=GRB.BINARY, name=\"z2\")\n",
        "z3 = m.addVar(vtype=GRB.BINARY, name=\"z3\")\n",
        "z4 = m.addVar(vtype=GRB.BINARY, name=\"z4\")\n",
        "z5 = m.addVar(vtype=GRB.BINARY, name=\"z5\")\n",
        "c=100000\n",
        "\n",
        "\n",
        "m.setObjective(5 * x1 + 3 * x2 + 7 * x3 + 12 * x4, GRB.MAXIMIZE)\n",
        "\n",
        "m.addConstr(3 * x1 + 2 * x2 + 5 * x3 + 8 * x4 <= 100, \"Wood\")\n",
        "m.addConstr(7 * x1 + 9 * x2 + 12 * x3 + 19 * x4 <= 250, \"Nails\")\n",
        "m.addConstr(3 * x1 + 5 * x2 + 5 * x3 + 10 * x4 <= 150, \"Glue\")\n",
        "\n",
        "m.addConstr(x1 <= c * z1, \"Tablec\")\n",
        "m.addConstr(x2 <= c * (z5+z2), \"Chairc\")\n",
        "m.addConstr(x3 <= c * z3, \"Bookshelfc\")\n",
        "m.addConstr(x4 <= c * z4, \"Bedc\")\n",
        "\n",
        "\n",
        "m.addConstr(z1 + z2 <= 1, \"either or machine 1\")\n",
        "m.addConstr(z5 + z3 +z4 <= 1, \"either or machine 2\")\n",
        "\n",
        "\n",
        "\n",
        "m.optimize()\n",
        "\n",
        "if m.status == GRB.OPTIMAL:\n",
        "    print(f\"Optimal value: {m.objVal}\")\n",
        "    print(f\"Tables: {x1.x}\")\n",
        "    print(f\"Chairs: {x2.x}\")\n",
        "    print(f\"Bookshelves: {x3.x}\")\n",
        "    print(f\"Beds: {x4.x}\")\n",
        "else:\n",
        "    print(\"No optimal solution found.\")"
      ],
      "metadata": {
        "id": "kziNLE08yT2g",
        "colab": {
          "base_uri": "https://localhost:8080/"
        },
        "outputId": "b6957a86-066e-4fac-e572-4a637e1c1018"
      },
      "execution_count": 4,
      "outputs": [
        {
          "output_type": "stream",
          "name": "stdout",
          "text": [
            "Gurobi Optimizer version 11.0.3 build v11.0.3rc0 (linux64 - \"Ubuntu 22.04.3 LTS\")\n",
            "\n",
            "CPU model: Intel(R) Xeon(R) CPU @ 2.20GHz, instruction set [SSE2|AVX|AVX2]\n",
            "Thread count: 1 physical cores, 2 logical processors, using up to 2 threads\n",
            "\n",
            "Optimize a model with 9 rows, 9 columns and 26 nonzeros\n",
            "Model fingerprint: 0x6fed9b5b\n",
            "Variable types: 0 continuous, 9 integer (5 binary)\n",
            "Coefficient statistics:\n",
            "  Matrix range     [1e+00, 1e+05]\n",
            "  Objective range  [3e+00, 1e+01]\n",
            "  Bounds range     [1e+00, 1e+00]\n",
            "  RHS range        [1e+00, 2e+02]\n",
            "Found heuristic solution: objective -0.0000000\n",
            "Presolve removed 3 rows and 2 columns\n",
            "Presolve time: 0.00s\n",
            "Presolved: 6 rows, 7 columns, 18 nonzeros\n",
            "Variable types: 0 continuous, 7 integer (3 binary)\n",
            "Found heuristic solution: objective 165.0000000\n",
            "\n",
            "Root relaxation: objective 1.665000e+02, 2 iterations, 0.00 seconds (0.00 work units)\n",
            "\n",
            "    Nodes    |    Current Node    |     Objective Bounds      |     Work\n",
            " Expl Unexpl |  Obj  Depth IntInf | Incumbent    BestBd   Gap | It/Node Time\n",
            "\n",
            "     0     0  166.50000    0    1  165.00000  166.50000  0.91%     -    0s\n",
            "*    0     0               0     166.0000000  166.00000  0.00%     -    0s\n",
            "\n",
            "Explored 1 nodes (2 simplex iterations) in 0.03 seconds (0.00 work units)\n",
            "Thread count was 2 (of 2 available processors)\n",
            "\n",
            "Solution count 3: 166 165 -0 \n",
            "\n",
            "Optimal solution found (tolerance 1.00e-04)\n",
            "Best objective 1.660000000000e+02, best bound 1.660000000000e+02, gap 0.0000%\n",
            "Optimal value: 166.0\n",
            "Tables: 32.0\n",
            "Chairs: 2.0\n",
            "Bookshelves: -0.0\n",
            "Beds: 0.0\n"
          ]
        }
      ]
    },
    {
      "cell_type": "markdown",
      "source": [
        "Problem 4, part 3"
      ],
      "metadata": {
        "id": "Ucpjfufg5jmI"
      }
    },
    {
      "cell_type": "markdown",
      "source": [
        "4.3 revised"
      ],
      "metadata": {
        "id": "vYibIdsVsDqo"
      }
    },
    {
      "cell_type": "code",
      "source": [
        "m = gp.Model(\"Furniture Problem\")\n",
        "\n",
        "x1 = m.addVar(vtype=GRB.INTEGER, name=\"tables\")\n",
        "x2 = m.addVar(vtype=GRB.INTEGER, name=\"chairs\")\n",
        "x3 = m.addVar(vtype=GRB.INTEGER, name=\"bookshelves\")\n",
        "x4 = m.addVar(vtype=GRB.INTEGER, name=\"beds\")\n",
        "x5 = m.addVar(vtype=GRB.INTEGER, name=\"tables2\")\n",
        "x6 = m.addVar(vtype=GRB.INTEGER, name=\"tables3\")\n",
        "x7 = m.addVar(vtype=GRB.INTEGER, name=\"tables4\")\n",
        "p1 = m.addVar(vtype=GRB.BINARY, name=\"p1\")\n",
        "p2 = m.addVar(vtype=GRB.BINARY, name=\"p2\")\n",
        "p3 = m.addVar(vtype=GRB.BINARY, name=\"p3\")\n",
        "p4 = m.addVar(vtype=GRB.BINARY, name=\"p4\")\n",
        "\n",
        "c=100000\n",
        "\n",
        "\n",
        "m.setObjective(5 * x1 + 6 * x5 + 7 * x6 + 8 * x7 + 3 * x2 + 7 * x3 + 12 * x4, GRB.MAXIMIZE)\n",
        "\n",
        "m.addConstr(3 * (x1+x5+x6+x7) + 2 * x2 + 5 * x3 + 8 * x4 <= 100, \"Wood\")\n",
        "m.addConstr(7 * (x1+x5+x6+x7) + 9 * x2 + 12 * x3 + 19 * x4 <= 250, \"Nails\")\n",
        "m.addConstr(3 * (x1+x5+x6+x7) + 5 * x2 + 5 * x3 + 10 * x4 <= 150, \"Glue\")\n",
        "\n",
        "m.addConstr(x1 <= 8, '1')\n",
        "m.addConstr(8 * p2 <= x1, \"1.2\")\n",
        "m.addConstr(x5 <= 4 * p2, \"5.1\")\n",
        "m.addConstr(4 * p3 <= x5, \"5.2\")\n",
        "m.addConstr(x6 <= 3 * p3, \"6.1\")\n",
        "m.addConstr(x6 >= 3 * p4, \"6.2\")\n",
        "m.addConstr(x7 <= 1000 * p4, \"7\")\n",
        "\n",
        "\n",
        "\n",
        "\n",
        "m.optimize()\n",
        "\n",
        "if m.status == GRB.OPTIMAL:\n",
        "    print(f\"Optimal value: {m.objVal}\")\n",
        "    print(f\"Tables: {x1.x+x5.x+x6.x+x7.x}\")\n",
        "    print(f\"Chairs: {x2.x}\")\n",
        "    print(f\"Bookshelves: {x3.x}\")\n",
        "    print(f\"Beds: {x4.x}\")\n",
        "else:\n",
        "    print(\"No optimal solution found.\")"
      ],
      "metadata": {
        "colab": {
          "base_uri": "https://localhost:8080/"
        },
        "id": "hqpgSaEC89A6",
        "outputId": "821cd976-c11a-42ac-bb4e-d457c0ed8b63"
      },
      "execution_count": 5,
      "outputs": [
        {
          "output_type": "stream",
          "name": "stdout",
          "text": [
            "Gurobi Optimizer version 11.0.3 build v11.0.3rc0 (linux64 - \"Ubuntu 22.04.3 LTS\")\n",
            "\n",
            "CPU model: Intel(R) Xeon(R) CPU @ 2.20GHz, instruction set [SSE2|AVX|AVX2]\n",
            "Thread count: 1 physical cores, 2 logical processors, using up to 2 threads\n",
            "\n",
            "Optimize a model with 10 rows, 11 columns and 34 nonzeros\n",
            "Model fingerprint: 0x32e44551\n",
            "Variable types: 0 continuous, 11 integer (4 binary)\n",
            "Coefficient statistics:\n",
            "  Matrix range     [1e+00, 1e+03]\n",
            "  Objective range  [3e+00, 1e+01]\n",
            "  Bounds range     [1e+00, 1e+00]\n",
            "  RHS range        [8e+00, 2e+02]\n",
            "Found heuristic solution: objective 103.0000000\n",
            "Presolve removed 2 rows and 1 columns\n",
            "Presolve time: 0.00s\n",
            "Presolved: 8 rows, 10 columns, 26 nonzeros\n",
            "Variable types: 0 continuous, 10 integer (3 binary)\n",
            "Found heuristic solution: objective 116.0000000\n",
            "\n",
            "Root relaxation: objective 2.305000e+02, 4 iterations, 0.00 seconds (0.00 work units)\n",
            "\n",
            "    Nodes    |    Current Node    |     Objective Bounds      |     Work\n",
            " Expl Unexpl |  Obj  Depth IntInf | Incumbent    BestBd   Gap | It/Node Time\n",
            "\n",
            "     0     0  230.50000    0    1  116.00000  230.50000  98.7%     -    0s\n",
            "H    0     0                     229.0000000  230.50000  0.66%     -    0s\n",
            "     0     0  230.50000    0    1  229.00000  230.50000  0.66%     -    0s\n",
            "\n",
            "Explored 1 nodes (4 simplex iterations) in 0.03 seconds (0.00 work units)\n",
            "Thread count was 2 (of 2 available processors)\n",
            "\n",
            "Solution count 3: 229 116 103 \n",
            "\n",
            "Optimal solution found (tolerance 1.00e-04)\n",
            "Best objective 2.290000000000e+02, best bound 2.290000000000e+02, gap 0.0000%\n",
            "Optimal value: 229.0\n",
            "Tables: 33.0\n",
            "Chairs: -0.0\n",
            "Bookshelves: -0.0\n",
            "Beds: 0.0\n"
          ]
        }
      ]
    },
    {
      "cell_type": "markdown",
      "source": [
        "Problem 5.1"
      ],
      "metadata": {
        "id": "4_86_-SM6JNg"
      }
    },
    {
      "cell_type": "code",
      "source": [
        "\n",
        "connections1 = pd.read_csv('connections.csv')\n",
        "stations1 = pd.read_csv('stations.csv')\n",
        "stations_restricted1 = pd.read_csv('stations_restricted.csv')\n",
        "\n",
        "stations = set(connections1['station1']).union(set(connections1['station2']))\n",
        "edges = list(zip(connections1['station1'], connections1['station2']))\n",
        "\n",
        "m = Model(\"Station_Monitoring\")\n",
        "\n",
        "station_vars = {}\n",
        "for station in stations:\n",
        "    station_vars[station] = m.addVar(vtype=GRB.BINARY, name=f\"station_{station}\")\n",
        "\n",
        "m.setObjective(sum(station_vars.values()), GRB.MINIMIZE)\n",
        "\n",
        "for station1, station2 in edges:\n",
        "    m.addConstr(station_vars[station1] + station_vars[station2] >= 1, name=f\"edge_{station1}_{station2}\")\n",
        "\n",
        "m.optimize()\n",
        "\n",
        "if m.status == GRB.OPTIMAL:\n",
        "    monitored_stations = [station for station in stations if station_vars[station].x > 0.5]\n",
        "    print(\"Optimal number of stations to monitor:\", len(monitored_stations))\n",
        "    print(\"Stations that need to be monitored:\", monitored_stations)\n",
        "else:\n",
        "    print(\"Optimal solution was not found.\")\n"
      ],
      "metadata": {
        "colab": {
          "base_uri": "https://localhost:8080/"
        },
        "id": "FY7IMyOJ6MGQ",
        "outputId": "f2719efb-2653-4429-8865-8dcd243be15d"
      },
      "execution_count": 10,
      "outputs": [
        {
          "output_type": "stream",
          "name": "stdout",
          "text": [
            "Gurobi Optimizer version 11.0.3 build v11.0.3rc0 (linux64 - \"Ubuntu 22.04.3 LTS\")\n",
            "\n",
            "CPU model: Intel(R) Xeon(R) CPU @ 2.20GHz, instruction set [SSE2|AVX|AVX2]\n",
            "Thread count: 1 physical cores, 2 logical processors, using up to 2 threads\n",
            "\n",
            "Optimize a model with 433 rows, 322 columns and 866 nonzeros\n",
            "Model fingerprint: 0x21167404\n",
            "Variable types: 0 continuous, 322 integer (322 binary)\n",
            "Coefficient statistics:\n",
            "  Matrix range     [1e+00, 1e+00]\n",
            "  Objective range  [1e+00, 1e+00]\n",
            "  Bounds range     [1e+00, 1e+00]\n",
            "  RHS range        [1e+00, 1e+00]\n",
            "Found heuristic solution: objective 178.0000000\n",
            "Presolve removed 416 rows and 307 columns\n",
            "Presolve time: 0.01s\n",
            "Presolved: 17 rows, 15 columns, 34 nonzeros\n",
            "Found heuristic solution: objective 158.0000000\n",
            "Variable types: 0 continuous, 15 integer (15 binary)\n",
            "\n",
            "Root relaxation: objective 1.565000e+02, 16 iterations, 0.00 seconds (0.00 work units)\n",
            "\n",
            "    Nodes    |    Current Node    |     Objective Bounds      |     Work\n",
            " Expl Unexpl |  Obj  Depth IntInf | Incumbent    BestBd   Gap | It/Node Time\n",
            "\n",
            "     0     0  156.50000    0   15  158.00000  156.50000  0.95%     -    0s\n",
            "H    0     0                     157.0000000  156.50000  0.32%     -    0s\n",
            "     0     0  156.50000    0   15  157.00000  156.50000  0.32%     -    0s\n",
            "\n",
            "Explored 1 nodes (18 simplex iterations) in 0.04 seconds (0.00 work units)\n",
            "Thread count was 2 (of 2 available processors)\n",
            "\n",
            "Solution count 3: 157 158 178 \n",
            "\n",
            "Optimal solution found (tolerance 1.00e-04)\n",
            "Best objective 1.570000000000e+02, best bound 1.570000000000e+02, gap 0.0000%\n",
            "Optimal number of stations to monitor: 157\n",
            "Stations that need to be monitored: [1, 4, 5, 9, 11, 12, 16, 17, 20, 22, 25, 26, 27, 28, 32, 36, 38, 40, 41, 42, 43, 44, 45, 46, 51, 54, 61, 62, 63, 67, 72, 74, 75, 78, 80, 84, 85, 86, 87, 89, 90, 92, 93, 94, 95, 96, 97, 98, 99, 100, 101, 102, 106, 109, 115, 116, 118, 119, 120, 124, 125, 126, 127, 128, 130, 133, 135, 136, 140, 141, 144, 145, 149, 150, 151, 153, 156, 157, 158, 159, 160, 163, 164, 167, 172, 176, 177, 179, 181, 182, 185, 186, 187, 188, 190, 192, 193, 196, 197, 198, 199, 200, 201, 202, 203, 205, 206, 209, 210, 214, 216, 220, 221, 224, 225, 230, 236, 240, 245, 246, 247, 250, 251, 253, 254, 256, 258, 261, 263, 264, 265, 268, 269, 273, 275, 279, 283, 284, 285, 290, 295, 296, 297, 298, 300, 301, 302, 303, 305, 315, 317, 319, 321, 323, 325, 327, 330]\n"
          ]
        }
      ]
    },
    {
      "cell_type": "markdown",
      "source": [
        "Problem 5.2"
      ],
      "metadata": {
        "id": "2Zs2DPyJA48i"
      }
    },
    {
      "cell_type": "code",
      "source": [
        "connections = pd.read_csv('connections.csv')\n",
        "connections.set_index('link name', inplace=True)\n",
        "\n",
        "stations = pd.read_csv('stations.csv')\n",
        "stations.set_index('Station code', inplace=True)\n",
        "all_stations_number = list(stations.index)\n",
        "\n",
        "distance_1_neighbors = {station: set() for station in all_stations_number}\n",
        "for i in range(len(connections)):\n",
        "    station1 = connections.iloc[i, 0]\n",
        "    station2 = connections.iloc[i, 1]\n",
        "    distance_1_neighbors[station1].add(station2)\n",
        "    distance_1_neighbors[station2].add(station1)\n",
        "\n",
        "distance_2_neighbors = {}\n",
        "for station in all_stations_number:\n",
        "    neighbors = distance_1_neighbors[station].copy()\n",
        "    distance_2_neighbors[station] = distance_1_neighbors[station].copy()\n",
        "    for neighbor in neighbors:\n",
        "        distance_2_neighbors[station].update(distance_1_neighbors[neighbor])\n",
        "\n",
        "m = gp.Model()\n",
        "x = m.addVars(all_stations_number, vtype=gp.GRB.BINARY, name=\"x\")\n",
        "m.setObjective(gp.quicksum(x[i] for i in all_stations_number), gp.GRB.MINIMIZE)\n",
        "for station in all_stations_number:\n",
        "    m.addConstr(x[station] + gp.quicksum(x[j] for j in distance_2_neighbors[station]) >= 1)\n",
        "m.optimize()\n",
        "\n",
        "if m.status == gp.GRB.OPTIMAL:\n",
        "    print(\"Minimum number of stations to monitor:\", m.objVal)\n",
        "else:\n",
        "    print(\"No optimal solution found.\")"
      ],
      "metadata": {
        "colab": {
          "base_uri": "https://localhost:8080/"
        },
        "id": "qoBY1dynUreA",
        "outputId": "3225fa8d-967e-4611-f810-214fbed834c6"
      },
      "execution_count": 27,
      "outputs": [
        {
          "output_type": "stream",
          "name": "stdout",
          "text": [
            "Gurobi Optimizer version 11.0.3 build v11.0.3rc0 (linux64 - \"Ubuntu 22.04.3 LTS\")\n",
            "\n",
            "CPU model: Intel(R) Xeon(R) CPU @ 2.20GHz, instruction set [SSE2|AVX|AVX2]\n",
            "Thread count: 1 physical cores, 2 logical processors, using up to 2 threads\n",
            "\n",
            "Optimize a model with 332 rows, 332 columns and 2334 nonzeros\n",
            "Model fingerprint: 0xbbb2d9b7\n",
            "Variable types: 0 continuous, 332 integer (332 binary)\n",
            "Coefficient statistics:\n",
            "  Matrix range     [1e+00, 2e+00]\n",
            "  Objective range  [1e+00, 1e+00]\n",
            "  Bounds range     [1e+00, 1e+00]\n",
            "  RHS range        [1e+00, 1e+00]\n",
            "Found heuristic solution: objective 79.0000000\n",
            "Presolve removed 328 rows and 327 columns\n",
            "Presolve time: 0.02s\n",
            "Presolved: 4 rows, 5 columns, 9 nonzeros\n",
            "Found heuristic solution: objective 67.0000000\n",
            "Variable types: 0 continuous, 5 integer (5 binary)\n",
            "\n",
            "Explored 0 nodes (0 simplex iterations) in 0.04 seconds (0.00 work units)\n",
            "Thread count was 2 (of 2 available processors)\n",
            "\n",
            "Solution count 2: 67 79 \n",
            "\n",
            "Optimal solution found (tolerance 1.00e-04)\n",
            "Best objective 6.700000000000e+01, best bound 6.700000000000e+01, gap 0.0000%\n",
            "Minimum number of stations to monitor: 67.0\n"
          ]
        }
      ]
    },
    {
      "cell_type": "code",
      "source": [
        "m = gp.Model()\n",
        "x = m.addVars(all_stations_number, vtype=gp.GRB.BINARY, name=\"x\")\n",
        "z = m.addVars(all_stations_number, vtype=gp.GRB.BINARY, name=\"z\")\n",
        "m.setObjective(gp.quicksum(x[i] for i in all_stations_number), gp.GRB.MINIMIZE)\n",
        "for station in all_stations_number:\n",
        "    m.addConstr(x[station] + gp.quicksum(x[j] for j in distance_2_neighbors[station]) >= z[station])\n",
        "m.addConstr(gp.quicksum(z[i] for i in all_stations_number) >= len(all_stations_number) - 9)\n",
        "m.optimize()\n",
        "\n",
        "if m.status == gp.GRB.OPTIMAL:\n",
        "    print(\"Minimum number of stations to monitor:\", m.objVal)\n",
        "else:\n",
        "    print(\"No optimal solution found.\")\n"
      ],
      "metadata": {
        "colab": {
          "base_uri": "https://localhost:8080/"
        },
        "id": "aEIiIT00L2-0",
        "outputId": "874386d3-a1f3-4584-c699-00bef2c176ab"
      },
      "execution_count": 26,
      "outputs": [
        {
          "output_type": "stream",
          "name": "stdout",
          "text": [
            "Gurobi Optimizer version 11.0.3 build v11.0.3rc0 (linux64 - \"Ubuntu 22.04.3 LTS\")\n",
            "\n",
            "CPU model: Intel(R) Xeon(R) CPU @ 2.20GHz, instruction set [SSE2|AVX|AVX2]\n",
            "Thread count: 1 physical cores, 2 logical processors, using up to 2 threads\n",
            "\n",
            "Optimize a model with 333 rows, 664 columns and 2998 nonzeros\n",
            "Model fingerprint: 0xb63a43a4\n",
            "Variable types: 0 continuous, 664 integer (664 binary)\n",
            "Coefficient statistics:\n",
            "  Matrix range     [1e+00, 2e+00]\n",
            "  Objective range  [1e+00, 1e+00]\n",
            "  Bounds range     [1e+00, 1e+00]\n",
            "  RHS range        [3e+02, 3e+02]\n",
            "Found heuristic solution: objective 79.0000000\n",
            "Found heuristic solution: objective 78.0000000\n",
            "Presolve removed 136 rows and 312 columns\n",
            "Presolve time: 0.03s\n",
            "Presolved: 197 rows, 352 columns, 1674 nonzeros\n",
            "Found heuristic solution: objective 62.0000000\n",
            "Variable types: 0 continuous, 352 integer (351 binary)\n",
            "\n",
            "Root relaxation: objective 5.705000e+01, 153 iterations, 0.00 seconds (0.00 work units)\n",
            "\n",
            "    Nodes    |    Current Node    |     Objective Bounds      |     Work\n",
            " Expl Unexpl |  Obj  Depth IntInf | Incumbent    BestBd   Gap | It/Node Time\n",
            "\n",
            "     0     0   57.05000    0   22   62.00000   57.05000  7.98%     -    0s\n",
            "H    0     0                      58.0000000   57.05000  1.64%     -    0s\n",
            "     0     0   57.05000    0   22   58.00000   57.05000  1.64%     -    0s\n",
            "\n",
            "Explored 1 nodes (185 simplex iterations) in 0.10 seconds (0.01 work units)\n",
            "Thread count was 2 (of 2 available processors)\n",
            "\n",
            "Solution count 4: 58 62 78 79 \n",
            "\n",
            "Optimal solution found (tolerance 1.00e-04)\n",
            "Best objective 5.800000000000e+01, best bound 5.800000000000e+01, gap 0.0000%\n",
            "Minimum number of stations to monitor: 58.0\n"
          ]
        }
      ]
    },
    {
      "cell_type": "code",
      "source": [],
      "metadata": {
        "id": "UjlVbij3TxDw"
      },
      "execution_count": null,
      "outputs": []
    }
  ]
}