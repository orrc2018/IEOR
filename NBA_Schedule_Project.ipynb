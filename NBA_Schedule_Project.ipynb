{
  "cells": [
    {
      "cell_type": "code",
      "execution_count": null,
      "id": "17c619cb",
      "metadata": {
        "colab": {
          "base_uri": "https://localhost:8080/",
          "height": 17
        },
        "id": "17c619cb",
        "outputId": "a28ee769-282c-48c5-b55d-81ced932c273"
      },
      "outputs": [
        {
          "data": {
            "text/html": [
              "<style>.container { width:100% !important; }</style>"
            ],
            "text/plain": [
              "<IPython.core.display.HTML object>"
            ]
          },
          "metadata": {},
          "output_type": "display_data"
        }
      ],
      "source": [
        "from IPython.core.display import display, HTML\n",
        "display(HTML(\"<style>.container { width:100% !important; }</style>\"))"
      ]
    },
    {
      "cell_type": "markdown",
      "id": "oXfPbIcTmiho",
      "metadata": {
        "id": "oXfPbIcTmiho"
      },
      "source": [
        "## Project #2. Scheduling the NBA ##\n",
        "\n",
        "For this project, we will use data from the 2023/2024 schedule of the National Basketball Association (NBA):\n",
        "*   In the file teams.csv you find a selection of teams from the NBA.\n",
        "*   In the file games.csv you find some games these teams played in the 2023/2024 season. Among other data, you find, for each match, the home team, the away team, and the date and location of the match.\n",
        "\n",
        "The project is composed of 4 questions, all to be solved using Integer Programming and **without the use of AI tools**, to be completed in this order:\n",
        "\n",
        "1. Write codes that computes and prints, for each team i, the following information:\n",
        "\n",
        "(a) all the dates when team i played home; (b) for each team j, the number of times team i played against team j at home; (c) for each team j, the number of times team i played against team j away (i.e., at j's home).\n",
        "\n",
        "2. Write an Integer Program (without objective function) whose feasible solutions are all the feasible schedules, where a schedule is feasible if, for each team i:\n",
        "\n",
        "(d) i plays home exactly on the dates computed in (a) above; (e) for each team j, i plays home against team j exactly the number of times computed in (b) above; (f) for each team j, i plays away against team j (i.e., at j's home) exactly the number of times computed in (c) above.\n",
        "\n",
        "3. Compute a feasible schedule that satisfy the following additional constraint: no team should play two consecutive away matches, one on the east coast (i.e. away against Celtics, Knicks, Wizards) and the other on the west coast (i.e., away against Warriors, Lakers, Clippers); or conclude that no such schedule exists.\n",
        "\n",
        "4. **4) Will not be evaluated unless parts 1),2),3) have been correctly solved** Compute any improvement to the current schedule. For instance, using Google Maps, you could compute and store the locations of all arenas, compute a feasible schedule that minimizes the maximum distance traveled by a team, and compare this value with the one of the current schedule to show the improvement. You can also access the full 2023/2023 season schedule at https://www.basketball-reference.com/leagues/NBA_2024_games-october.html.\n"
      ]
    },
    {
      "cell_type": "code",
      "source": [],
      "metadata": {
        "id": "kAkwY8xdtXDq"
      },
      "id": "kAkwY8xdtXDq",
      "execution_count": null,
      "outputs": []
    },
    {
      "cell_type": "code",
      "execution_count": null,
      "id": "pVHotFMxD_7z",
      "metadata": {
        "id": "pVHotFMxD_7z"
      },
      "outputs": [],
      "source": []
    }
  ],
  "metadata": {
    "colab": {
      "provenance": []
    },
    "kernelspec": {
      "display_name": "Python 3",
      "language": "python",
      "name": "python3"
    },
    "language_info": {
      "codemirror_mode": {
        "name": "ipython",
        "version": 3
      },
      "file_extension": ".py",
      "mimetype": "text/x-python",
      "name": "python",
      "nbconvert_exporter": "python",
      "pygments_lexer": "ipython3",
      "version": "3.9.2"
    }
  },
  "nbformat": 4,
  "nbformat_minor": 5
}