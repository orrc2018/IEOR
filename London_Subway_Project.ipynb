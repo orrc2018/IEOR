{
  "cells": [
    {
      "cell_type": "code",
      "execution_count": null,
      "id": "17c619cb",
      "metadata": {
        "colab": {
          "base_uri": "https://localhost:8080/",
          "height": 17
        },
        "id": "17c619cb",
        "outputId": "a28ee769-282c-48c5-b55d-81ced932c273"
      },
      "outputs": [
        {
          "data": {
            "text/html": [
              "<style>.container { width:100% !important; }</style>"
            ],
            "text/plain": [
              "<IPython.core.display.HTML object>"
            ]
          },
          "metadata": {},
          "output_type": "display_data"
        }
      ],
      "source": [
        "from IPython.core.display import display, HTML\n",
        "display(HTML(\"<style>.container { width:100% !important; }</style>\"))"
      ]
    },
    {
      "cell_type": "markdown",
      "id": "oXfPbIcTmiho",
      "metadata": {
        "id": "oXfPbIcTmiho"
      },
      "source": [
        "## Project #1. Flows on the London Subway ##\n",
        "\n",
        "For this project we will use data on the London subway. The data is organized as follows:\n",
        "- file ''connections'' contains data on the direct links between two stations; for instance, we can go from Station 11 to Station 163 (and vice versa) by taking line 1; it will take us 1 minute;\n",
        "- file ''stations'' contains information on identifiers of each station;\n",
        "- file ''stations_restricted'' contains a subset of the stations from stations.csv\n",
        "\n",
        "From this information, we can construct a network as follows:\n",
        "- the nodes are the stations;\n",
        "- there is an arc between two nodes if there is a direct link between the two corresponding stations in the file ''connections'' (assume every connection corresponds to two arcs in opposite directions); for instance, there is an arc (11,163), and arc (163,11), but no arc (1,170);\n",
        "- define capacities as follows:\n",
        "1.   Generate a random number between 5 and 10 for each line: this is the capacity of the line.\n",
        "2.   The capacity of an arc between two stations has the same capacity as the sum of the capacities of the lines that link them. For instance, the stations of King's Cross St. Pancras (#145) and Euston Square (#90) are linked by lines 3,6,8. Let's say we randomly sampled the capacity of 6,8,4 for lines 3,6,8. The capacity of the arc (145,90) is 6+8+4=18. Similarly, the capacity of the arc (90,145) is also 6+8+4=18.\n",
        "\n",
        "The project is composed of 4 questions, all to be solved using Linear Program and to be completed in this order:\n",
        "\n",
        "1. We want to compute how many passengers can transit on average from the north-east part of the city center, to the south-west. To do so, compute a maximum flow between King's Cross St. Pancras (#145) and Hammersmith (#110) on the instance in the file ''connections'' (ignore the time it takes to go between stations).\n",
        "2. We want to understand how many people can be evacuated from the city center within 18 minutes. To do so, restrict to the stations in the file ''stations_restricted'' (and the corresponding arcs). Compute the maximum flow over time between King's Cross St. Pancras (#145) and Victoria (#273) for T=18.\n",
        "3. Consider again the restriction to the stations in the file ''stations_restricted''. For security reasons, in the stations Oxford Circus (#192) and Embankment (#87), at any given time there can be at most 20 passengers in transit. Solve problem 2) above under this additional restriction.\n",
        "4. **4) Will not be evaluated unless parts 1),2),3) have been correctly solved** Choose an improvement to the line and write a linear program that finds the *best* way to realize your improvement. For instance, you could assume you have a budget of 10 units of additional capacity to be added to the network, and you want to decide where to add them so that the maximum flow in part 1) above increases the most (it is ok to have an improvement that requires an integer solution, but the solution you get is fractional).\n",
        "\n",
        "\n",
        "\n"
      ]
    },
    {
      "cell_type": "code",
      "source": [],
      "metadata": {
        "id": "kAkwY8xdtXDq"
      },
      "id": "kAkwY8xdtXDq",
      "execution_count": null,
      "outputs": []
    },
    {
      "cell_type": "code",
      "execution_count": null,
      "id": "pVHotFMxD_7z",
      "metadata": {
        "id": "pVHotFMxD_7z"
      },
      "outputs": [],
      "source": []
    }
  ],
  "metadata": {
    "colab": {
      "provenance": []
    },
    "kernelspec": {
      "display_name": "Python 3",
      "language": "python",
      "name": "python3"
    },
    "language_info": {
      "codemirror_mode": {
        "name": "ipython",
        "version": 3
      },
      "file_extension": ".py",
      "mimetype": "text/x-python",
      "name": "python",
      "nbconvert_exporter": "python",
      "pygments_lexer": "ipython3",
      "version": "3.9.2"
    }
  },
  "nbformat": 4,
  "nbformat_minor": 5
}